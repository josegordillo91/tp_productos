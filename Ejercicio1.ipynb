{
 "cells": [
  {
   "cell_type": "code",
   "execution_count": 9,
   "id": "6d6926cb-eead-46fd-8715-d3ef4c072d60",
   "metadata": {},
   "outputs": [
    {
     "name": "stdout",
     "output_type": "stream",
     "text": [
      "# Primeras 10 filas del dataset:\n",
      "   ID   Nombre del Producto   Categoría  Precio Unitario  Cantidad Vendida  \\\n",
      "0   1             iPhone 14  Smartphone           999.99                 5   \n",
      "1   2         Galaxy Tab S8      Tablet           699.99                 3   \n",
      "2   3           MacBook Air      Laptop          1299.99                 2   \n",
      "3   4           AirPods Pro  Accesorios           249.99                10   \n",
      "4   5       Sony WH-1000XM5       Audio           349.99                 4   \n",
      "5   6             iPhone 13  Smartphone           799.99                 6   \n",
      "6   7       Xiaomi Mi Pad 6      Tablet           499.99                 8   \n",
      "7   8           Dell XPS 13      Laptop          1499.99                 1   \n",
      "8   9  Apple Watch Series 8  Accesorios           399.99                 7   \n",
      "9  10  Bose QuietComfort 45       Audio           329.99                 5   \n",
      "\n",
      "  Fecha de Venta Sucursal  \n",
      "0     2023-01-01    Norte  \n",
      "1     2023-01-05      Sur  \n",
      "2     2023-01-10     Este  \n",
      "3     2023-01-15    Oeste  \n",
      "4     2023-01-20   Centro  \n",
      "5     2023-02-01    Norte  \n",
      "6     2023-02-10      Sur  \n",
      "7     2023-02-15     Este  \n",
      "8     2023-02-20    Oeste  \n",
      "9     2023-02-25   Centro  \n",
      "\n",
      "# Información general sobre el dataset:\n",
      "Filas: 50\n",
      "Columnas: 7\n",
      "<class 'pandas.core.frame.DataFrame'>\n",
      "RangeIndex: 50 entries, 0 to 49\n",
      "Data columns (total 7 columns):\n",
      " #   Column               Non-Null Count  Dtype  \n",
      "---  ------               --------------  -----  \n",
      " 0   ID                   50 non-null     int64  \n",
      " 1   Nombre del Producto  50 non-null     object \n",
      " 2   Categoría            50 non-null     object \n",
      " 3   Precio Unitario      50 non-null     float64\n",
      " 4   Cantidad Vendida     50 non-null     int64  \n",
      " 5   Fecha de Venta       50 non-null     object \n",
      " 6   Sucursal             50 non-null     object \n",
      "dtypes: float64(1), int64(2), object(4)\n",
      "memory usage: 2.9+ KB\n",
      "None\n",
      "\n",
      "# Tipos de datos de cada columna:\n",
      "ID                       int64\n",
      "Nombre del Producto     object\n",
      "Categoría               object\n",
      "Precio Unitario        float64\n",
      "Cantidad Vendida         int64\n",
      "Fecha de Venta          object\n",
      "Sucursal                object\n",
      "dtype: object\n"
     ]
    }
   ],
   "source": [
    "import pandas as pd\n",
    "\n",
    "try:\n",
    "    # Cargar el archivo CSV\n",
    "    df = pd.read_csv(\"productos_tp.csv\")\n",
    "except FileNotFoundError:\n",
    "    print(\"Error: El archivo 'productos_tp.csv' no existe en el directorio actual.\")\n",
    "except pd.errors.EmptyDataError:\n",
    "    print(\"Error: El archivo 'productos_tp.csv' está vacío.\")\n",
    "except pd.errors.ParserError:\n",
    "    print(\"Error: No se pudo parsear el archivo 'productos_tp.csv'. Verifica el formato del archivo.\")\n",
    "else:\n",
    "    # Mostrar las primeras 10 filas del dataset\n",
    "    print(\"# Primeras 10 filas del dataset:\")\n",
    "    print(df.head(10))\n",
    "\n",
    "    # Mostrar información general sobre el dataset\n",
    "    print(\"\\n# Información general sobre el dataset:\")\n",
    "    print(f\"Filas: {df.shape[0]}\")\n",
    "    print(f\"Columnas: {df.shape[1]}\")\n",
    "    print(df.info())\n",
    "\n",
    "    # Mostrar los tipos de datos de cada columna\n",
    "    print(\"\\n# Tipos de datos de cada columna:\")\n",
    "    print(df.dtypes)"
   ]
  },
  {
   "cell_type": "code",
   "execution_count": null,
   "id": "6e6ec287-7caf-4778-ac0e-51601877cda5",
   "metadata": {},
   "outputs": [],
   "source": []
  },
  {
   "cell_type": "code",
   "execution_count": null,
   "id": "52101452-e4d6-4c87-8916-c6ff1e9de5a1",
   "metadata": {},
   "outputs": [],
   "source": []
  }
 ],
 "metadata": {
  "kernelspec": {
   "display_name": "Python 3 (ipykernel)",
   "language": "python",
   "name": "python3"
  },
  "language_info": {
   "codemirror_mode": {
    "name": "ipython",
    "version": 3
   },
   "file_extension": ".py",
   "mimetype": "text/x-python",
   "name": "python",
   "nbconvert_exporter": "python",
   "pygments_lexer": "ipython3",
   "version": "3.12.7"
  }
 },
 "nbformat": 4,
 "nbformat_minor": 5
}
