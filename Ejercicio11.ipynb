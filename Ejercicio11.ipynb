{
 "cells": [
  {
   "cell_type": "code",
   "execution_count": 3,
   "id": "0c73b69b-ee44-4b8e-afa6-65e21209ff1a",
   "metadata": {},
   "outputs": [
    {
     "name": "stdout",
     "output_type": "stream",
     "text": [
      "**Correlación entre el precio y la cantidad vendida:** -0.7077764241294242\n",
      "\n",
      "**Categoría más rentable:** Smartphone con un margen de ganancia total de 16759.7185\n",
      "\n",
      "**Sucursal con mayor variedad de productos vendidos:** Centro con 10 productos diferentes\n"
     ]
    },
    {
     "data": {
      "text/plain": [
       "'\\nEsta función realiza las siguientes tareas:\\n\\n    1-Clasifica los productos según su precio utilizando pd.cut.\\n    2-Calcula el margen de ganancia para cada producto según su categoría de precio.\\n    3-Analiza la correlación entre el precio y la cantidad vendida utilizando corr.\\n    4-Identifica la categoría más rentable en términos de margen de ganancia utilizando groupby y idxmax.\\n    5-Identifica la sucursal con la mayor variedad de productos vendidos utilizando groupby y nunique.\\n\\nLa función imprime los resultados de forma clara y concisa.\\n\\n\\n\\n'"
      ]
     },
     "execution_count": 3,
     "metadata": {},
     "output_type": "execute_result"
    }
   ],
   "source": [
    "import pandas as pd\n",
    "import matplotlib.pyplot as plt\n",
    "\n",
    "try:\n",
    "    # Cargar el archivo CSV\n",
    "    df = pd.read_csv(\"productos_tp.csv\")\n",
    "except FileNotFoundError:\n",
    "    print(\"Error: El archivo 'productos_tp.csv' no existe en el directorio actual.\")\n",
    "except pd.errors.EmptyDataError:\n",
    "    print(\"Error: El archivo 'productos_tp.csv' está vacío.\")\n",
    "\n",
    "\n",
    "def analisis(df):\n",
    "    # Clasificar los productos según su precio\n",
    "    bins = [0, 200, 800, float('inf')]\n",
    "    labels = ['Económico', 'Estándar', 'Premium']\n",
    "    df['Categoría de precio'] = pd.cut(df['Precio Unitario'], bins=bins, labels=labels)\n",
    "\n",
    "    # Calcular el margen de ganancia para cada producto\n",
    "    df['Margen de ganancia'] = df.apply(lambda row: row['Precio Unitario'] * row['Cantidad Vendida'] * {\n",
    "        'Económico': 0.2,\n",
    "        'Estándar': 0.25,\n",
    "        'Premium': 0.3\n",
    "    }[row['Categoría de precio']], axis=1)\n",
    "\n",
    "    # Analizar la correlación entre el precio y la cantidad vendida\n",
    "    correlacion = df['Precio Unitario'].corr(df['Cantidad Vendida'])\n",
    "    print(f\"**Correlación entre el precio y la cantidad vendida:** {correlacion}\")\n",
    "\n",
    "    # Identificar la categoría más rentable en términos de margen de ganancia\n",
    "    margen_por_categoria = df.groupby('Categoría')['Margen de ganancia'].sum().reset_index()\n",
    "    categoria_mas_rentable = margen_por_categoria.loc[margen_por_categoria['Margen de ganancia'].idxmax()]\n",
    "    print(f\"\\n**Categoría más rentable:** {categoria_mas_rentable['Categoría']} con un margen de ganancia total de {categoria_mas_rentable['Margen de ganancia']}\")\n",
    "\n",
    "    # Identificar la sucursal con la mayor variedad de productos vendidos\n",
    "    variedad_por_sucursal = df.groupby('Sucursal')['Nombre del Producto'].nunique().reset_index()\n",
    "    sucursal_con_mayor_variedad = variedad_por_sucursal.loc[variedad_por_sucursal['Nombre del Producto'].idxmax()]\n",
    "    print(f\"\\n**Sucursal con mayor variedad de productos vendidos:** {sucursal_con_mayor_variedad['Sucursal']} con {sucursal_con_mayor_variedad['Nombre del Producto']} productos diferentes\")\n",
    "\n",
    "# Llamar a la función analisis\n",
    "analisis(df)\n",
    "\"\"\"\n",
    "Esta función realiza las siguientes tareas:\n",
    "\n",
    "    1-Clasifica los productos según su precio utilizando pd.cut.\n",
    "    2-Calcula el margen de ganancia para cada producto según su categoría de precio.\n",
    "    3-Analiza la correlación entre el precio y la cantidad vendida utilizando corr.\n",
    "    4-Identifica la categoría más rentable en términos de margen de ganancia utilizando groupby y idxmax.\n",
    "    5-Identifica la sucursal con la mayor variedad de productos vendidos utilizando groupby y nunique.\n",
    "\n",
    "La función imprime los resultados de forma clara y concisa.\n",
    "\n",
    "\n",
    "\n",
    "\"\"\""
   ]
  },
  {
   "cell_type": "code",
   "execution_count": null,
   "id": "209d7491-c6ff-437d-b000-944e44bf8505",
   "metadata": {},
   "outputs": [],
   "source": []
  },
  {
   "cell_type": "code",
   "execution_count": null,
   "id": "8863d030-ee80-4ea4-88ad-c8e3d362bcbc",
   "metadata": {},
   "outputs": [],
   "source": []
  }
 ],
 "metadata": {
  "kernelspec": {
   "display_name": "Python 3 (ipykernel)",
   "language": "python",
   "name": "python3"
  },
  "language_info": {
   "codemirror_mode": {
    "name": "ipython",
    "version": 3
   },
   "file_extension": ".py",
   "mimetype": "text/x-python",
   "name": "python",
   "nbconvert_exporter": "python",
   "pygments_lexer": "ipython3",
   "version": "3.12.7"
  }
 },
 "nbformat": 4,
 "nbformat_minor": 5
}
