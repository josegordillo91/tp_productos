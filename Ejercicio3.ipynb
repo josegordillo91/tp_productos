{
 "cells": [
  {
   "cell_type": "code",
   "execution_count": 2,
   "id": "eb3ad9c4-b39a-44bf-a2a4-4408fe170c90",
   "metadata": {},
   "outputs": [
    {
     "name": "stdout",
     "output_type": "stream",
     "text": [
      "**Total de ventas:** 372\n",
      "**Producto más vendido:** Amazon Echo Dot con 20 unidades vendidas\n",
      "**Producto que generó mayor ingreso:** Xiaomi Mi 12 con un ingreso de $6999.90\n",
      "**Promedio de precio de los productos:** $669.19\n"
     ]
    }
   ],
   "source": [
    "# Importar la biblioteca pandas\n",
    "import pandas as pd\n",
    "\n",
    "try:\n",
    "    # Cargar el archivo CSV\n",
    "    df = pd.read_csv(\"productos_tp.csv\")\n",
    "except FileNotFoundError:\n",
    "    print(\"Error: El archivo 'productos_tp.csv' no existe en el directorio actual.\")\n",
    "except pd.errors.EmptyDataError:\n",
    "    print(\"Error: El archivo 'productos_tp.csv' está vacío.\")\n",
    "except pd.errors.ParserError:\n",
    "    print(\"Error: No se pudo parsear el archivo 'productos_tp.csv'. Verifica el formato del archivo.\")\n",
    "else:\n",
    "    try:\n",
    "        # Crear la función analisis_basico\n",
    "        def analisis_basico(df):\n",
    "            # Verificar si las columnas necesarias existen en el DataFrame\n",
    "            columnas_necesarias = ['Nombre del Producto', 'Cantidad Vendida', 'Precio Unitario']\n",
    "            if not all(columna in df.columns for columna in columnas_necesarias):\n",
    "                raise ValueError(\"Error: El DataFrame no contiene todas las columnas necesarias.\")\n",
    "\n",
    "            # Calcular el total de ventas\n",
    "            total_ventas = df['Cantidad Vendida'].sum()\n",
    "            print(f\"**Total de ventas:** {total_ventas}\")\n",
    "\n",
    "            # Identificar el producto más vendido\n",
    "            producto_mas_vendido = df.groupby('Nombre del Producto')['Cantidad Vendida'].sum().idxmax()\n",
    "            cantidad_mas_vendida = df.groupby('Nombre del Producto')['Cantidad Vendida'].sum().max()\n",
    "            print(f\"**Producto más vendido:** {producto_mas_vendido} con {cantidad_mas_vendida} unidades vendidas\")\n",
    "\n",
    "            # Calcular el ingreso total por producto\n",
    "            df['Ingreso'] = df['Precio Unitario'] * df['Cantidad Vendida']\n",
    "            producto_mayor_ingreso = df.groupby('Nombre del Producto')['Ingreso'].sum().idxmax()\n",
    "            ingreso_mayor = df.groupby('Nombre del Producto')['Ingreso'].sum().max()\n",
    "            print(f\"**Producto que generó mayor ingreso:** {producto_mayor_ingreso} con un ingreso de ${ingreso_mayor:.2f}\")\n",
    "\n",
    "            # Calcular el promedio de precio de los productos\n",
    "            promedio_precio = df['Precio Unitario'].mean()\n",
    "            print(f\"**Promedio de precio de los productos:** ${promedio_precio:.2f}\")\n",
    "\n",
    "        # Llamar a la función analisis_basico\n",
    "        analisis_basico(df)\n",
    "    except ValueError as e:\n",
    "        print(e)\n",
    "    except Exception as e:\n",
    "        print(f\"Error inesperado: {e}\")\n",
    "\n",
    "\n",
    "\"\"\"\n",
    "Esta función realiza las siguientes tareas:\n",
    "\n",
    "    1-Calcula el total de ventas sumando la columna \"Cantidad Vendida\".\n",
    "    2-Identifica el producto más vendido agrupando por \"Nombre del Producto\" y sumando la \"Cantidad Vendida\".\n",
    "    3-Calcula el ingreso total por producto multiplicando \"Precio Unitario\" por \"Cantidad Vendida\" y luego identifica el producto con mayor ingreso.\n",
    "    4-Calcula el promedio de precio de los productos promediando la columna \"Precio Unitario\".\n",
    "\n",
    "La función muestra los resultados en pantalla con un formato claro y conciso.\n",
    "\n",
    "\n",
    "Excepciones \n",
    "\n",
    "En este código, se implementan excepciones para manejar los siguientes errores:\n",
    "\n",
    "    FileNotFoundError, pd.errors.EmptyDataError y pd.errors.ParserError: se producen cuando hay problemas al cargar el archivo CSV.\n",
    "    ValueError: se produce cuando el DataFrame no contiene todas las columnas necesarias.\n",
    "    Exception: se produce cuando hay un error inesperado al procesar el DataFrame.\n",
    "\n",
    "Si se produce alguno de estos errores, se imprime un mensaje de error y se detiene la ejecución del código. Si no se producen errores, se ejecuta el código normalmente y se muestra el análisis básico del DataFrame.\n",
    "\n",
    "\"\"\""
   ]
  },
  {
   "cell_type": "code",
   "execution_count": null,
   "id": "29e5b4a2-7e73-4645-bd37-32cd117dbf3f",
   "metadata": {},
   "outputs": [],
   "source": []
  }
 ],
 "metadata": {
  "kernelspec": {
   "display_name": "Python 3 (ipykernel)",
   "language": "python",
   "name": "python3"
  },
  "language_info": {
   "codemirror_mode": {
    "name": "ipython",
    "version": 3
   },
   "file_extension": ".py",
   "mimetype": "text/x-python",
   "name": "python",
   "nbconvert_exporter": "python",
   "pygments_lexer": "ipython3",
   "version": "3.12.7"
  }
 },
 "nbformat": 4,
 "nbformat_minor": 5
}
