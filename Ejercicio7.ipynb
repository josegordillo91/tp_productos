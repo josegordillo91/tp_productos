{
 "cells": [
  {
   "cell_type": "code",
   "execution_count": 1,
   "id": "0ff21c45-0669-46a4-a26f-d417c9bc7313",
   "metadata": {},
   "outputs": [
    {
     "name": "stdout",
     "output_type": "stream",
     "text": [
      "**Top 5 productos con mayor cantidad de unidades vendidas:**\n",
      "      Nombre del Producto  Cantidad Vendida\n",
      "1         Amazon Echo Dot                20\n",
      "13       Google Nest Mini                20\n",
      "2       Amazon Fire HD 10                15\n",
      "30  Razer BlackWidow Lite                15\n",
      "24   Logitech MX Master 3                15\n",
      "\n",
      "**Top 5 productos con mayor ingreso total generado:**\n",
      "   Nombre del Producto  Ingreso\n",
      "40        Xiaomi Mi 12  6999.90\n",
      "17        HP Envy x360  5999.94\n",
      "22  Lenovo ThinkPad X1  5399.97\n",
      "15      Google Pixel 7  5399.91\n",
      "37          Sony A7 IV  4999.98\n"
     ]
    },
    {
     "data": {
      "text/plain": [
       "'\\n\\nEsta función realiza las siguientes tareas:\\n\\n    Calcula la cantidad total de unidades vendidas por producto utilizando groupby y sum.\\n    Ordena los productos por cantidad de unidades vendidas en orden descendente y selecciona los N productos con mayor cantidad de unidades vendidas.\\n    Calcula el ingreso total generado por producto utilizando groupby y sum.\\n    Ordena los productos por ingreso total generado en orden descendente y selecciona los N productos con mayor ingreso total generado.\\n\\nLa función imprime los resultados de forma clara y ordenada, mostrando los N productos con mayor cantidad de unidades vendidas y mayor ingreso total generado. \\n\\n\\n'"
      ]
     },
     "execution_count": 1,
     "metadata": {},
     "output_type": "execute_result"
    }
   ],
   "source": [
    "# Importar la biblioteca pandas\n",
    "import pandas as pd\n",
    "\n",
    "try:\n",
    "    # Cargar el archivo CSV\n",
    "    df = pd.read_csv(\"productos_tp.csv\")\n",
    "except FileNotFoundError:\n",
    "    print(\"Error: El archivo 'productos_tp.csv' no existe en el directorio actual.\")\n",
    "except pd.errors.EmptyDataError:\n",
    "    print(\"Error: El archivo 'productos_tp.csv' está vacío.\")\n",
    "\n",
    "\n",
    "# Crear la función top_productos\n",
    "def top_productos(df, N):\n",
    "    # Calcular la cantidad total de unidades vendidas por producto\n",
    "    df_ventas = df.groupby('Nombre del Producto')['Cantidad Vendida'].sum().reset_index()\n",
    "    df_ventas = df_ventas.sort_values(by='Cantidad Vendida', ascending=False).head(N)\n",
    "    print(\"**Top {} productos con mayor cantidad de unidades vendidas:**\".format(N))\n",
    "    print(df_ventas)\n",
    "\n",
    "    # Calcular el ingreso total generado por producto\n",
    "    df['Ingreso'] = df['Precio Unitario'] * df['Cantidad Vendida']\n",
    "    df_ingreso = df.groupby('Nombre del Producto')['Ingreso'].sum().reset_index()\n",
    "    df_ingreso = df_ingreso.sort_values(by='Ingreso', ascending=False).head(N)\n",
    "    print(\"\\n**Top {} productos con mayor ingreso total generado:**\".format(N))\n",
    "    print(df_ingreso)\n",
    "\n",
    "# Llamar a la función top_productos\n",
    "N = 5\n",
    "top_productos(df, N)\n",
    "\n",
    "\n",
    "\"\"\"\n",
    "\n",
    "Esta función realiza las siguientes tareas:\n",
    "\n",
    "    Calcula la cantidad total de unidades vendidas por producto utilizando groupby y sum.\n",
    "    Ordena los productos por cantidad de unidades vendidas en orden descendente y selecciona los N productos con mayor cantidad de unidades vendidas.\n",
    "    Calcula el ingreso total generado por producto utilizando groupby y sum.\n",
    "    Ordena los productos por ingreso total generado en orden descendente y selecciona los N productos con mayor ingreso total generado.\n",
    "\n",
    "La función imprime los resultados de forma clara y ordenada, mostrando los N productos con mayor cantidad de unidades vendidas y mayor ingreso total generado. \n",
    "\n",
    "\n",
    "\"\"\""
   ]
  },
  {
   "cell_type": "code",
   "execution_count": null,
   "id": "bf17a529-44db-4312-bf1f-6c3bb512c6a3",
   "metadata": {},
   "outputs": [],
   "source": []
  }
 ],
 "metadata": {
  "kernelspec": {
   "display_name": "Python 3 (ipykernel)",
   "language": "python",
   "name": "python3"
  },
  "language_info": {
   "codemirror_mode": {
    "name": "ipython",
    "version": 3
   },
   "file_extension": ".py",
   "mimetype": "text/x-python",
   "name": "python",
   "nbconvert_exporter": "python",
   "pygments_lexer": "ipython3",
   "version": "3.12.7"
  }
 },
 "nbformat": 4,
 "nbformat_minor": 5
}
