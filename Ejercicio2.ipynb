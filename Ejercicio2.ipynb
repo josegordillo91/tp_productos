{
 "cells": [
  {
   "cell_type": "code",
   "execution_count": 3,
   "id": "874f4fe4-d095-4f20-b95c-86a3c510dc3a",
   "metadata": {
    "scrolled": true
   },
   "outputs": [
    {
     "name": "stdout",
     "output_type": "stream",
     "text": [
      "Datos faltantes en cada columna:\n",
      "ID                     0\n",
      "Nombre del Producto    0\n",
      "Categoría              0\n",
      "Precio Unitario        0\n",
      "Cantidad Vendida       0\n",
      "Fecha de Venta         0\n",
      "Sucursal               0\n",
      "dtype: int64\n",
      "\n",
      "Porcentaje de datos faltantes en cada columna:\n",
      "ID                     0.0\n",
      "Nombre del Producto    0.0\n",
      "Categoría              0.0\n",
      "Precio Unitario        0.0\n",
      "Cantidad Vendida       0.0\n",
      "Fecha de Venta         0.0\n",
      "Sucursal               0.0\n",
      "dtype: float64\n",
      "\n",
      "No hay columnas con datos faltantes.\n"
     ]
    }
   ],
   "source": [
    "# Importar la biblioteca pandas\n",
    "import pandas as pd\n",
    "\n",
    "try:\n",
    "    # Cargar el archivo CSV\n",
    "    df = pd.read_csv(\"productos_tp.csv\")\n",
    "except FileNotFoundError:\n",
    "    print(\"Error: El archivo 'productos_tp.csv' no existe en el directorio actual.\")\n",
    "except pd.errors.EmptyDataError:\n",
    "    print(\"Error: El archivo 'productos_tp.csv' está vacío.\")\n",
    "except pd.errors.ParserError:\n",
    "    print(\"Error: No se pudo parsear el archivo 'productos_tp.csv'. Verifica el formato del archivo.\")\n",
    "else:\n",
    "    try:\n",
    "        # Verificar si existen datos faltantes en cada una de las columnas\n",
    "        print(\"Datos faltantes en cada columna:\")\n",
    "        print(df.isnull().sum())\n",
    "\n",
    "        # Verificar el porcentaje de datos faltantes en cada columna\n",
    "        print(\"\\nPorcentaje de datos faltantes en cada columna:\")\n",
    "        print(df.isnull().mean() * 100)\n",
    "\n",
    "        # Identificar columnas con datos faltantes\n",
    "        columnas_con_datos_faltantes = df.columns[df.isnull().any()].tolist()\n",
    "        if not columnas_con_datos_faltantes:\n",
    "            print(\"\\nNo hay columnas con datos faltantes.\")\n",
    "        else:\n",
    "            print(f\"\\nColumnas con datos faltantes: {columnas_con_datos_faltantes}\")\n",
    "\n",
    "            # Proponer soluciones para cada columna con datos faltantes\n",
    "            for columna in columnas_con_datos_faltantes:\n",
    "                print(f\"\\nColumna: {columna}\")\n",
    "                print(f\"Tipo de dato: {df[columna].dtype}\")\n",
    "                print(f\"Número de datos faltantes: {df[columna].isnull().sum()}\")\n",
    "                \n",
    "                # Proponer solución según el tipo de dato\n",
    "                if df[columna].dtype == 'object':\n",
    "                    print(\"Solución propuesta: Completar con el valor más frecuente o eliminar registros\")\n",
    "                elif df[columna].dtype == 'int64' or df[columna].dtype == 'float64':\n",
    "                    print(\"Solución propuesta: Completar con el promedio o la mediana\")\n",
    "                else:\n",
    "                    print(\"Solución propuesta: Eliminar registros o imputar datos\")\n",
    "    except Exception as e:\n",
    "        print(f\"Error inesperado: {e}\")\n",
    "\n",
    "\n",
    "\n",
    "        \n",
    "# Ejemplo de cómo completar datos faltantes con el promedio\n",
    "# df['Precio Unitario'] = df['Precio Unitario'].fillna(df['Precio Unitario'].mean())\n",
    "\n",
    "# Ejemplo de cómo completar datos faltantes con el valor más frecuente\n",
    "# df['Sucursal'] = df['Sucursal'].fillna(df['Sucursal'].mode()[0])\n",
    "\n",
    "\n",
    "#En este código, se implementan excepciones para manejar los siguientes errores:\n",
    "\n",
    "#    FileNotFoundError, pd.errors.EmptyDataError y pd.errors.ParserError: se producen cuando hay problemas al cargar el archivo CSV.\n",
    "#    Exception: se produce cuando hay un error inesperado al procesar el DataFrame.\n",
    "\n",
    "#Si se produce alguno de estos errores, se imprime un mensaje de error y se detiene la ejecución del código. Si no se producen errores, se ejecuta el código normalmente y se muestra la información sobre los datos faltantes en el DataFrame.\n"
   ]
  },
  {
   "cell_type": "code",
   "execution_count": null,
   "id": "b94fca48-4afe-4951-a40d-8f6a32399e07",
   "metadata": {},
   "outputs": [],
   "source": []
  }
 ],
 "metadata": {
  "kernelspec": {
   "display_name": "Python 3 (ipykernel)",
   "language": "python",
   "name": "python3"
  },
  "language_info": {
   "codemirror_mode": {
    "name": "ipython",
    "version": 3
   },
   "file_extension": ".py",
   "mimetype": "text/x-python",
   "name": "python",
   "nbconvert_exporter": "python",
   "pygments_lexer": "ipython3",
   "version": "3.12.7"
  }
 },
 "nbformat": 4,
 "nbformat_minor": 5
}
