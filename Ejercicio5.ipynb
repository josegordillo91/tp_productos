{
 "cells": [
  {
   "cell_type": "code",
   "execution_count": 8,
   "id": "c5b5d1c2-0b92-4a48-b272-5e5a6916c46f",
   "metadata": {},
   "outputs": [
    {
     "name": "stdout",
     "output_type": "stream",
     "text": [
      "**Total de ventas por sucursal:**\n",
      "Sucursal\n",
      "Centro     78\n",
      "Este       78\n",
      "Norte      40\n",
      "Oeste      74\n",
      "Sur       102\n",
      "Name: Cantidad Vendida, dtype: int64\n",
      "\n",
      "**Total de ingresos por sucursal:**\n",
      "Sucursal\n",
      "Centro    37249.22\n",
      "Este      24409.22\n",
      "Norte     37199.60\n",
      "Oeste     29399.26\n",
      "Sur       27348.98\n",
      "Name: Ingreso, dtype: float64\n",
      "\n",
      "**Categoría más vendida en cada sucursal:**\n",
      "   Sucursal   Categoría\n",
      "1    Centro  Smartphone\n",
      "4      Este       Audio\n",
      "8     Norte  Smartphone\n",
      "10    Oeste  Accesorios\n",
      "13      Sur  Accesorios\n",
      "\n",
      "**Sucursal con mayor volumen de ventas:** Sur con 102 unidades vendidas\n"
     ]
    },
    {
     "data": {
      "text/plain": [
       "'\\nEsta función realiza las siguientes tareas:\\n\\n    1-Calcula el total de ventas por sucursal (en cantidad de productos) utilizando groupby y sum.\\n    2-Calcula el total de ingresos por sucursal (Precio × Cantidad) creando una columna \"Ingreso\" y luego utilizando groupby y sum.\\n    3-Identifica la categoría más vendida en cada sucursal utilizando groupby y idxmax.\\n    4-Identifica la sucursal con mayor volumen de ventas utilizando idxmax.\\n\\nLa función muestra los resultados en pantalla con un formato claro y conciso.\\n\\n\\n'"
      ]
     },
     "execution_count": 8,
     "metadata": {},
     "output_type": "execute_result"
    }
   ],
   "source": [
    "# Importar la biblioteca pandas\n",
    "import pandas as pd\n",
    "\n",
    "try:\n",
    "    # Cargar el archivo CSV\n",
    "    df = pd.read_csv(\"productos_tp.csv\")\n",
    "except FileNotFoundError:\n",
    "    print(\"Error: El archivo 'productos_tp.csv' no existe en el directorio actual.\")\n",
    "except pd.errors.EmptyDataError:\n",
    "    print(\"Error: El archivo 'productos_tp.csv' está vacío.\")\n",
    "\n",
    "# Crear la función ventas_por_sucursal\n",
    "def ventas_por_sucursal(df):\n",
    "    # Calcular el total de ventas por sucursal (en cantidad de productos)\n",
    "    total_ventas_por_sucursal = df.groupby('Sucursal')['Cantidad Vendida'].sum()\n",
    "    print(\"**Total de ventas por sucursal:**\")\n",
    "    print(total_ventas_por_sucursal)\n",
    "\n",
    "    # Calcular el total de ingresos por sucursal (Precio × Cantidad)\n",
    "    df['Ingreso'] = df['Precio Unitario'] * df['Cantidad Vendida']\n",
    "    total_ingresos_por_sucursal = df.groupby('Sucursal')['Ingreso'].sum()\n",
    "    print(\"\\n**Total de ingresos por sucursal:**\")\n",
    "    print(total_ingresos_por_sucursal)\n",
    "\n",
    "    # Identificar la categoría más vendida en cada sucursal\n",
    "    categoria_mas_vendida_por_sucursal = df.groupby(['Sucursal', 'Categoría'])['Cantidad Vendida'].sum().reset_index()\n",
    "    categoria_mas_vendida_por_sucursal = categoria_mas_vendida_por_sucursal.loc[categoria_mas_vendida_por_sucursal.groupby('Sucursal')['Cantidad Vendida'].idxmax()]\n",
    "    print(\"\\n**Categoría más vendida en cada sucursal:**\")\n",
    "    print(categoria_mas_vendida_por_sucursal[['Sucursal', 'Categoría']])\n",
    "\n",
    "    # Identificar la sucursal con mayor volumen de ventas\n",
    "    sucursal_con_mayor_ventas = total_ventas_por_sucursal.idxmax()\n",
    "    print(f\"\\n**Sucursal con mayor volumen de ventas:** {sucursal_con_mayor_ventas} con {total_ventas_por_sucursal.max()} unidades vendidas\")\n",
    "\n",
    "# Llamar a la función ventas_por_sucursal\n",
    "ventas_por_sucursal(df)\n",
    "\n",
    "\n",
    "\"\"\"\n",
    "Esta función realiza las siguientes tareas:\n",
    "\n",
    "    1-Calcula el total de ventas por sucursal (en cantidad de productos) utilizando groupby y sum.\n",
    "    2-Calcula el total de ingresos por sucursal (Precio × Cantidad) creando una columna \"Ingreso\" y luego utilizando groupby y sum.\n",
    "    3-Identifica la categoría más vendida en cada sucursal utilizando groupby y idxmax.\n",
    "    4-Identifica la sucursal con mayor volumen de ventas utilizando idxmax.\n",
    "\n",
    "La función muestra los resultados en pantalla con un formato claro y conciso.\n",
    "\n",
    "\n",
    "\"\"\""
   ]
  },
  {
   "cell_type": "code",
   "execution_count": null,
   "id": "23fbf45c-7757-40b5-a1c4-34386ea2a907",
   "metadata": {},
   "outputs": [],
   "source": []
  },
  {
   "cell_type": "code",
   "execution_count": null,
   "id": "54ee1e6f-2aea-44f2-8071-c21a9356b502",
   "metadata": {},
   "outputs": [],
   "source": []
  }
 ],
 "metadata": {
  "kernelspec": {
   "display_name": "Python 3 (ipykernel)",
   "language": "python",
   "name": "python3"
  },
  "language_info": {
   "codemirror_mode": {
    "name": "ipython",
    "version": 3
   },
   "file_extension": ".py",
   "mimetype": "text/x-python",
   "name": "python",
   "nbconvert_exporter": "python",
   "pygments_lexer": "ipython3",
   "version": "3.12.7"
  }
 },
 "nbformat": 4,
 "nbformat_minor": 5
}
