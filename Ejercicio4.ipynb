{
 "cells": [
  {
   "cell_type": "code",
   "execution_count": 4,
   "id": "eb3ad9c4-b39a-44bf-a2a4-4408fe170c90",
   "metadata": {},
   "outputs": [
    {
     "name": "stdin",
     "output_type": "stream",
     "text": [
      "Ingrese el nombre de la categoría:  Tablet\n"
     ]
    },
    {
     "name": "stdout",
     "output_type": "stream",
     "text": [
      "**Cantidad total de productos vendidos en 'Tablet':** 41\n",
      "**Precio promedio de los productos en 'Tablet':** $591.66\n",
      "**Producto más caro en 'Tablet':** iPad Pro con un precio de $1099.99\n",
      "**Producto más barato en 'Tablet':** Amazon Fire HD 10 con un precio de $149.99\n"
     ]
    },
    {
     "data": {
      "text/plain": [
       "'\\nEn este código, se implementan excepciones para manejar los siguientes errores:\\n\\n    FileNotFoundError, pd.errors.EmptyDataError y pd.errors.ParserError: se producen cuando hay problemas al cargar el archivo CSV.\\n    KeyError: se produce cuando una columna necesaria no existe en el DataFrame.\\n    Exception: se produce cuando hay un error inesperado al procesar el DataFrame.\\n\\nSi se produce alguno de estos errores, se imprime un mensaje de error y se detiene la ejecución del código. Si no se producen errores, se \\nejecuta el código normalmente y se muestra el análisis por categoría.\\n'"
      ]
     },
     "execution_count": 4,
     "metadata": {},
     "output_type": "execute_result"
    }
   ],
   "source": [
    "# Importar la biblioteca pandas\n",
    "import pandas as pd\n",
    "\n",
    "try:\n",
    "    # Cargar el archivo CSV\n",
    "    df = pd.read_csv(\"productos_tp.csv\")\n",
    "except FileNotFoundError:\n",
    "    print(\"Error: El archivo 'productos_tp.csv' no existe en el directorio actual.\")\n",
    "except pd.errors.EmptyDataError:\n",
    "    print(\"Error: El archivo 'productos_tp.csv' está vacío.\")\n",
    "except pd.errors.ParserError:\n",
    "    print(\"Error: No se pudo parsear el archivo 'productos_tp.csv'. Verifica el formato del archivo.\")\n",
    "else:\n",
    "    try:\n",
    "        # Crear la función analisis_por_categoria\n",
    "        def analisis_por_categoria(df, categoria):\n",
    "            # Verificar si la categoría es una cadena vacía\n",
    "            if not categoria.strip():\n",
    "                print(\"Error: La categoría no puede estar vacía.\")\n",
    "                return\n",
    "\n",
    "            # Filtrar el DataFrame por la categoría seleccionada\n",
    "            df_categoria = df[df['Categoría'] == categoria]\n",
    "\n",
    "            # Verificar si la categoría existe en el DataFrame\n",
    "            if df_categoria.empty:\n",
    "                print(f\"No se encontraron productos en la categoría '{categoria}'\")\n",
    "                return\n",
    "\n",
    "            # Calcular la cantidad total de productos vendidos en esa categoría\n",
    "            cantidad_total = df_categoria['Cantidad Vendida'].sum()\n",
    "            print(f\"**Cantidad total de productos vendidos en '{categoria}':** {cantidad_total}\")\n",
    "\n",
    "            # Calcular el precio promedio de los productos de esa categoría\n",
    "            precio_promedio = df_categoria['Precio Unitario'].mean()\n",
    "            print(f\"**Precio promedio de los productos en '{categoria}':** ${precio_promedio:.2f}\")\n",
    "\n",
    "            # Identificar el producto más caro de esa categoría\n",
    "            if df_categoria['Precio Unitario'].max() == df_categoria['Precio Unitario'].min():\n",
    "                print(f\"**Todos los productos en '{categoria}' tienen el mismo precio:** ${df_categoria['Precio Unitario'].max():.2f}\")\n",
    "            else:\n",
    "                producto_mas_caro = df_categoria.loc[df_categoria['Precio Unitario'].idxmax()]\n",
    "                print(f\"**Producto más caro en '{categoria}':** {producto_mas_caro['Nombre del Producto']} con un precio de ${producto_mas_caro['Precio Unitario']:.2f}\")\n",
    "\n",
    "                # Identificar el producto más barato de esa categoría\n",
    "                producto_mas_barato = df_categoria.loc[df_categoria['Precio Unitario'].idxmin()]\n",
    "                print(f\"**Producto más barato en '{categoria}':** {producto_mas_barato['Nombre del Producto']} con un precio de ${producto_mas_barato['Precio Unitario']:.2f}\")\n",
    "\n",
    "        # Llamar a la función analisis_por_categoria\n",
    "        categoria = input(\"Ingrese el nombre de la categoría: \")\n",
    "        analisis_por_categoria(df, categoria)\n",
    "    except KeyError as e:\n",
    "        print(f\"Error: La columna '{e}' no existe en el DataFrame.\")\n",
    "    except Exception as e:\n",
    "        print(f\"Error inesperado: {e}\")\n",
    "'''\n",
    "En este código, se implementan excepciones para manejar los siguientes errores:\n",
    "\n",
    "    FileNotFoundError, pd.errors.EmptyDataError y pd.errors.ParserError: se producen cuando hay problemas al cargar el archivo CSV.\n",
    "    KeyError: se produce cuando una columna necesaria no existe en el DataFrame.\n",
    "    Exception: se produce cuando hay un error inesperado al procesar el DataFrame.\n",
    "\n",
    "Si se produce alguno de estos errores, se imprime un mensaje de error y se detiene la ejecución del código. Si no se producen errores, se \n",
    "ejecuta el código normalmente y se muestra el análisis por categoría.\n",
    "'''"
   ]
  },
  {
   "cell_type": "code",
   "execution_count": null,
   "id": "29e5b4a2-7e73-4645-bd37-32cd117dbf3f",
   "metadata": {},
   "outputs": [],
   "source": []
  }
 ],
 "metadata": {
  "kernelspec": {
   "display_name": "Python 3 (ipykernel)",
   "language": "python",
   "name": "python3"
  },
  "language_info": {
   "codemirror_mode": {
    "name": "ipython",
    "version": 3
   },
   "file_extension": ".py",
   "mimetype": "text/x-python",
   "name": "python",
   "nbconvert_exporter": "python",
   "pygments_lexer": "ipython3",
   "version": "3.12.7"
  }
 },
 "nbformat": 4,
 "nbformat_minor": 5
}
