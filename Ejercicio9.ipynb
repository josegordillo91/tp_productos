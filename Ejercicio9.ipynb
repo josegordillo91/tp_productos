{
 "cells": [
  {
   "cell_type": "code",
   "execution_count": 9,
   "id": "f6dd8f0f-69e1-412e-8f7e-bf3eec403ef2",
   "metadata": {},
   "outputs": [
    {
     "name": "stdout",
     "output_type": "stream",
     "text": [
      "Resultados exportados a resultados_ventas.csv\n"
     ]
    },
    {
     "data": {
      "text/plain": [
       "'Esta función realiza las siguientes tareas:\\n\\n    Calcula el total vendido y el ingreso total por categoría y sucursal utilizando groupby y agg.\\n    Renombra las columnas para que coincidan con los nombres deseados en el archivo CSV.\\n    Exporta los resultados a un archivo CSV utilizando to_csv.\\n    Imprime un mensaje para confirmar que los resultados han sido exportados.\\n    '"
      ]
     },
     "execution_count": 9,
     "metadata": {},
     "output_type": "execute_result"
    }
   ],
   "source": [
    "# Importar la biblioteca pandas\n",
    "import pandas as pd\n",
    "\n",
    "try:\n",
    "    # Cargar el archivo CSV\n",
    "    df = pd.read_csv(\"productos_tp.csv\")\n",
    "except FileNotFoundError:\n",
    "    print(\"Error: El archivo 'productos_tp.csv' no existe en el directorio actual.\")\n",
    "except pd.errors.EmptyDataError:\n",
    "    print(\"Error: El archivo 'productos_tp.csv' está vacío.\")\n",
    "\n",
    "\n",
    "# Crear la función exportar_resultados\n",
    "def exportar_resultados(df):\n",
    "    # Calcular el total vendido y el ingreso total por categoría y sucursal\n",
    "    df['Ingreso'] = df['Precio Unitario'] * df['Cantidad Vendida']\n",
    "    resultados = df.groupby(['Categoría', 'Sucursal']).agg({\n",
    "        'Cantidad Vendida': 'sum',\n",
    "        'Ingreso': 'sum'\n",
    "    }).reset_index()\n",
    "    resultados = resultados.rename(columns={\n",
    "        'Cantidad Vendida': 'Total Vendido',\n",
    "        'Ingreso': 'Ingreso Total'\n",
    "    })\n",
    "\n",
    "    # Exportar los resultados a un archivo CSV\n",
    "    resultados.to_csv('resultados_ventas.csv', index=False)\n",
    "\n",
    "    print(\"Resultados exportados a resultados_ventas.csv\")\n",
    "\n",
    "# Llamar a la función exportar_resultados\n",
    "exportar_resultados(df)\n",
    "\n",
    "\n",
    "\"\"\"Esta función realiza las siguientes tareas:\n",
    "\n",
    "    Calcula el total vendido y el ingreso total por categoría y sucursal utilizando groupby y agg.\n",
    "    Renombra las columnas para que coincidan con los nombres deseados en el archivo CSV.\n",
    "    Exporta los resultados a un archivo CSV utilizando to_csv.\n",
    "    Imprime un mensaje para confirmar que los resultados han sido exportados.\n",
    "    \"\"\""
   ]
  },
  {
   "cell_type": "code",
   "execution_count": null,
   "id": "d5d5e915-b10a-4720-af5f-083dbadf15fe",
   "metadata": {},
   "outputs": [],
   "source": []
  }
 ],
 "metadata": {
  "kernelspec": {
   "display_name": "Python 3 (ipykernel)",
   "language": "python",
   "name": "python3"
  },
  "language_info": {
   "codemirror_mode": {
    "name": "ipython",
    "version": 3
   },
   "file_extension": ".py",
   "mimetype": "text/x-python",
   "name": "python",
   "nbconvert_exporter": "python",
   "pygments_lexer": "ipython3",
   "version": "3.12.7"
  }
 },
 "nbformat": 4,
 "nbformat_minor": 5
}
