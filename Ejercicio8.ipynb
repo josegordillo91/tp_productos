{
 "cells": [
  {
   "cell_type": "code",
   "execution_count": 2,
   "id": "c2346f7a-655a-46d6-8be6-e1bb86204a3e",
   "metadata": {},
   "outputs": [
    {
     "name": "stdout",
     "output_type": "stream",
     "text": [
      "**Cantidad de productos por categoría de precio:**\n",
      "Categoría de precio\n",
      "Estándar     23\n",
      "Premium      15\n",
      "Económico    12\n",
      "Name: count, dtype: int64\n",
      "\n",
      "**La categoría con más items 'Premium' es:** Laptop con 10 productos\n"
     ]
    },
    {
     "data": {
      "text/plain": [
       "'\\nEsta función realiza las siguientes tareas:\\n\\n    1-Define los rangos de precio para cada categoría de producto (\"Económico\", \"Estándar\" y \"Premium\").\\n    2-Clasifica los productos según su precio utilizando la función pd.cut.\\n    3-Muestra cuántos productos hay en cada categoría de precio utilizando value_counts.\\n    4-Identifica qué categoría de producto tiene más items \"Premium\" filtrando el DataFrame por productos \"Premium\" y luego utilizando value_counts para contar la cantidad de productos por categoría.\\n\\nLa función imprime los resultados de forma clara y concisa.\\n\\n'"
      ]
     },
     "execution_count": 2,
     "metadata": {},
     "output_type": "execute_result"
    }
   ],
   "source": [
    "# Importar la biblioteca pandas\n",
    "import pandas as pd\n",
    "\n",
    "try:\n",
    "    # Cargar el archivo CSV\n",
    "    df = pd.read_csv(\"productos_tp.csv\")\n",
    "except FileNotFoundError:\n",
    "    print(\"Error: El archivo 'productos_tp.csv' no existe en el directorio actual.\")\n",
    "except pd.errors.EmptyDataError:\n",
    "    print(\"Error: El archivo 'productos_tp.csv' está vacío.\")\n",
    "\n",
    "\n",
    "# Crear la función analisis_precios\n",
    "def analisis_precios(df):\n",
    "    # Definir los rangos de precio para cada categoría\n",
    "    bins = [0, 200, 800, float('inf')]\n",
    "    labels = ['Económico', 'Estándar', 'Premium']\n",
    "\n",
    "    # Clasificar los productos según su precio\n",
    "    df['Categoría de precio'] = pd.cut(df['Precio Unitario'], bins=bins, labels=labels)\n",
    "\n",
    "    # Mostrar cuántos productos hay en cada categoría de precio\n",
    "    print(\"**Cantidad de productos por categoría de precio:**\")\n",
    "    print(df['Categoría de precio'].value_counts())\n",
    "\n",
    "    # Identificar qué categoría de producto tiene más items \"Premium\"\n",
    "    df_premium = df[df['Categoría de precio'] == 'Premium']\n",
    "    categoria_con_mas_premium = df_premium['Categoría'].value_counts().idxmax()\n",
    "    print(f\"\\n**La categoría con más items 'Premium' es:** {categoria_con_mas_premium} con {df_premium['Categoría'].value_counts().max()} productos\")\n",
    "\n",
    "# Llamar a la función analisis_precios\n",
    "analisis_precios(df)\n",
    "\n",
    "\n",
    "\n",
    "\"\"\"\n",
    "Esta función realiza las siguientes tareas:\n",
    "\n",
    "    1-Define los rangos de precio para cada categoría de producto (\"Económico\", \"Estándar\" y \"Premium\").\n",
    "    2-Clasifica los productos según su precio utilizando la función pd.cut.\n",
    "    3-Muestra cuántos productos hay en cada categoría de precio utilizando value_counts.\n",
    "    4-Identifica qué categoría de producto tiene más items \"Premium\" filtrando el DataFrame por productos \"Premium\" y luego utilizando value_counts para contar la cantidad de productos por categoría.\n",
    "\n",
    "La función imprime los resultados de forma clara y concisa.\n",
    "\n",
    "\"\"\""
   ]
  },
  {
   "cell_type": "code",
   "execution_count": null,
   "id": "0dbb9093-868f-474e-a38f-d8814b02503e",
   "metadata": {},
   "outputs": [],
   "source": []
  }
 ],
 "metadata": {
  "kernelspec": {
   "display_name": "Python 3 (ipykernel)",
   "language": "python",
   "name": "python3"
  },
  "language_info": {
   "codemirror_mode": {
    "name": "ipython",
    "version": 3
   },
   "file_extension": ".py",
   "mimetype": "text/x-python",
   "name": "python",
   "nbconvert_exporter": "python",
   "pygments_lexer": "ipython3",
   "version": "3.12.7"
  }
 },
 "nbformat": 4,
 "nbformat_minor": 5
}
